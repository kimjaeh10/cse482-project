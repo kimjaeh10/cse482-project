{
 "cells": [
  {
   "cell_type": "markdown",
   "metadata": {},
   "source": [
    "# CSE 482 - Project"
   ]
  },
  {
   "cell_type": "code",
   "execution_count": 1,
   "metadata": {},
   "outputs": [],
   "source": [
    "import pandas as pd\n",
    "from sodapy import Socrata\n",
    "import matplotlib.pyplot as plt\n",
    "%matplotlib inline"
   ]
  },
  {
   "cell_type": "code",
   "execution_count": 9,
   "metadata": {},
   "outputs": [],
   "source": [
    "myAppToken = 'rEPOXGSegb5AUSutACzeimRkD'\n",
    "client = Socrata('data.cityofchicago.org', myAppToken)\n",
    "\n",
    "results = client.get('ijzp-q8t2', limit=100000)\n",
    "df = pd.DataFrame.from_records(results)"
   ]
  },
  {
   "cell_type": "code",
   "execution_count": 18,
   "metadata": {},
   "outputs": [
    {
     "data": {
      "text/html": [
       "<div>\n",
       "<style scoped>\n",
       "    .dataframe tbody tr th:only-of-type {\n",
       "        vertical-align: middle;\n",
       "    }\n",
       "\n",
       "    .dataframe tbody tr th {\n",
       "        vertical-align: top;\n",
       "    }\n",
       "\n",
       "    .dataframe thead th {\n",
       "        text-align: right;\n",
       "    }\n",
       "</style>\n",
       "<table border=\"1\" class=\"dataframe\">\n",
       "  <thead>\n",
       "    <tr style=\"text-align: right;\">\n",
       "      <th></th>\n",
       "      <th>date</th>\n",
       "      <th>primary_type</th>\n",
       "      <th>description</th>\n",
       "      <th>location_description</th>\n",
       "      <th>arrest</th>\n",
       "      <th>district</th>\n",
       "      <th>year</th>\n",
       "    </tr>\n",
       "  </thead>\n",
       "  <tbody>\n",
       "    <tr>\n",
       "      <th>0</th>\n",
       "      <td>2020-04-16T23:55:00.000</td>\n",
       "      <td>ASSAULT</td>\n",
       "      <td>AGGRAVATED - HANDGUN</td>\n",
       "      <td>RESIDENCE</td>\n",
       "      <td>False</td>\n",
       "      <td>007</td>\n",
       "      <td>2020</td>\n",
       "    </tr>\n",
       "    <tr>\n",
       "      <th>1</th>\n",
       "      <td>2020-04-16T23:55:00.000</td>\n",
       "      <td>BATTERY</td>\n",
       "      <td>AGGRAVATED - KNIFE / CUTTING INSTRUMENT</td>\n",
       "      <td>APARTMENT</td>\n",
       "      <td>False</td>\n",
       "      <td>003</td>\n",
       "      <td>2020</td>\n",
       "    </tr>\n",
       "    <tr>\n",
       "      <th>2</th>\n",
       "      <td>2020-04-16T23:55:00.000</td>\n",
       "      <td>BATTERY</td>\n",
       "      <td>SIMPLE</td>\n",
       "      <td>PARKING LOT / GARAGE (NON RESIDENTIAL)</td>\n",
       "      <td>False</td>\n",
       "      <td>009</td>\n",
       "      <td>2020</td>\n",
       "    </tr>\n",
       "    <tr>\n",
       "      <th>3</th>\n",
       "      <td>2020-04-16T23:50:00.000</td>\n",
       "      <td>BATTERY</td>\n",
       "      <td>DOMESTIC BATTERY SIMPLE</td>\n",
       "      <td>RESIDENCE</td>\n",
       "      <td>False</td>\n",
       "      <td>017</td>\n",
       "      <td>2020</td>\n",
       "    </tr>\n",
       "    <tr>\n",
       "      <th>4</th>\n",
       "      <td>2020-04-16T23:50:00.000</td>\n",
       "      <td>BATTERY</td>\n",
       "      <td>DOMESTIC BATTERY SIMPLE</td>\n",
       "      <td>APARTMENT</td>\n",
       "      <td>False</td>\n",
       "      <td>002</td>\n",
       "      <td>2020</td>\n",
       "    </tr>\n",
       "  </tbody>\n",
       "</table>\n",
       "</div>"
      ],
      "text/plain": [
       "                      date primary_type  \\\n",
       "0  2020-04-16T23:55:00.000      ASSAULT   \n",
       "1  2020-04-16T23:55:00.000      BATTERY   \n",
       "2  2020-04-16T23:55:00.000      BATTERY   \n",
       "3  2020-04-16T23:50:00.000      BATTERY   \n",
       "4  2020-04-16T23:50:00.000      BATTERY   \n",
       "\n",
       "                               description  \\\n",
       "0                     AGGRAVATED - HANDGUN   \n",
       "1  AGGRAVATED - KNIFE / CUTTING INSTRUMENT   \n",
       "2                                   SIMPLE   \n",
       "3                  DOMESTIC BATTERY SIMPLE   \n",
       "4                  DOMESTIC BATTERY SIMPLE   \n",
       "\n",
       "                     location_description  arrest district  year  \n",
       "0                               RESIDENCE   False      007  2020  \n",
       "1                               APARTMENT   False      003  2020  \n",
       "2  PARKING LOT / GARAGE (NON RESIDENTIAL)   False      009  2020  \n",
       "3                               RESIDENCE   False      017  2020  \n",
       "4                               APARTMENT   False      002  2020  "
      ]
     },
     "execution_count": 18,
     "metadata": {},
     "output_type": "execute_result"
    }
   ],
   "source": [
    "data = df.drop(columns=[':@computed_region_awaf_s7ux', ':@computed_region_6mkv_f3dw', ':@computed_region_vrxf_vc4k', ':@computed_region_bdys_3d7i', \n",
    "                      ':@computed_region_43wa_7qmu', ':@computed_region_rpca_8um6', ':@computed_region_d9mm_jgwp', ':@computed_region_d3ds_rm58',\n",
    "                      'id', 'case_number', 'block', 'iucr', 'domestic', 'beat', 'ward', 'community_area', 'fbi_code', 'x_coordinate', 'y_coordinate',\n",
    "                       'updated_on', 'latitude', 'longitude', 'location'])\n",
    "data.head()"
   ]
  },
  {
   "cell_type": "code",
   "execution_count": null,
   "metadata": {},
   "outputs": [],
   "source": []
  }
 ],
 "metadata": {
  "kernelspec": {
   "display_name": "Python 3",
   "language": "python",
   "name": "python3"
  },
  "language_info": {
   "codemirror_mode": {
    "name": "ipython",
    "version": 3
   },
   "file_extension": ".py",
   "mimetype": "text/x-python",
   "name": "python",
   "nbconvert_exporter": "python",
   "pygments_lexer": "ipython3",
   "version": "3.7.5"
  }
 },
 "nbformat": 4,
 "nbformat_minor": 2
}
